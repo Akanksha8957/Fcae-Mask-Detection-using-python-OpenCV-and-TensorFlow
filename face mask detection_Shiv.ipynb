{
 "cells": [
  {
   "cell_type": "code",
   "execution_count": 3,
   "id": "bed9604a-4723-4078-b7e2-bd491612a64b",
   "metadata": {},
   "outputs": [
    {
     "name": "stdout",
     "output_type": "stream",
     "text": [
      "Collecting opencv-python\n",
      "  Downloading opencv_python-4.5.5.62-cp36-abi3-macosx_10_15_x86_64.whl (46.0 MB)\n",
      "\u001b[K     |████████████████████████████████| 46.0 MB 9.6 MB/s eta 0:00:012\n",
      "\u001b[?25hRequirement already satisfied: numpy>=1.19.3 in ./opt/anaconda3/lib/python3.9/site-packages (from opencv-python) (1.20.3)\n",
      "Installing collected packages: opencv-python\n",
      "Successfully installed opencv-python-4.5.5.62\n",
      "Note: you may need to restart the kernel to use updated packages.\n"
     ]
    }
   ],
   "source": [
    "pip install opencv-python\n"
   ]
  },
  {
   "cell_type": "code",
   "execution_count": null,
   "id": "48236fbb-fab9-416c-891c-4500f64c60ec",
   "metadata": {},
   "outputs": [],
   "source": [
    "import cv2 as cv\n",
    "faceCascade = cv.CascadeClassifier('facedetect.txt')\n",
    "mouthCascade = cv.CascadeClassifier('haarcascade_mcs_mouth.txt')\n",
    "video_capture = cv.VideoCapture(0)\n",
    "\n",
    "def resizing(frame,scale=0.50):\n",
    "    width=int(frame.shape[1]*scale)\n",
    "    height=int(frame.shape[0]*scale)\n",
    "    dim=(width,height)\n",
    " \n",
    "    return cv.resize(frame,dim,interpolation=cv.INTER_AREA)\n",
    "\n",
    "\n",
    "while True:\n",
    "    ret, frame = video_capture.read()\n",
    "    gray = cv.cvtColor(frame, cv.COLOR_BGR2GRAY)\n",
    "    faces = faceCascade.detectMultiScale(gray,scaleFactor=1.1,minNeighbors=9,minSize=(60, 60),flags=cv.CASCADE_SCALE_IMAGE)\n",
    "    mouths = mouthCascade.detectMultiScale(gray,scaleFactor=1.1,minNeighbors=10,minSize=(60, 60),flags=cv.CASCADE_SCALE_IMAGE)\n",
    "    if len(faces)==0:\n",
    "         cv.putText(frame,'NO FACE DETECTED',(10,30),cv.FONT_HERSHEY_TRIPLEX,1.0,(0,0,0),2)\n",
    "    else:\n",
    "        cv.putText(frame,'No. of Person in the frame: '+str(len(faces)),(10,30),cv.FONT_HERSHEY_TRIPLEX,1.0,(0,0,0),2)\n",
    "    for (x,y,w,h) in faces:\n",
    "        cv.rectangle(frame, (x,y),(x+w,y+h),(0,255,0), 2)\n",
    "        cv.putText(frame,'Face Detected',(x-10,y-10),cv.FONT_HERSHEY_TRIPLEX,1.0,(0,255,0),2)\n",
    "        if len(mouths) !=0:\n",
    "            for (x,y,w,h) in mouths:\n",
    "                cv.rectangle(frame, (x,y),(x+w,y+h),(0,0,255), 2)\n",
    "                cv.putText(frame,'No Mask Detected',(x-10,y-10),cv.FONT_HERSHEY_TRIPLEX,1.0,(0,0,255),2)\n",
    "                cv.putText(frame,'Pls Wear Mask!',(x-10,y+h+30),cv.FONT_HERSHEY_TRIPLEX,1.0,(0,0,255),2)\n",
    "        else:\n",
    "            cv.putText(frame,'Mask Detected!',(x-10,y+h+30),cv.FONT_HERSHEY_TRIPLEX,1.0,(0,255,0),2)\n",
    "            \n",
    "         # Display the resulting frame\n",
    "    resized=resizing(frame)\n",
    "    cv.imshow('Video',resized)\n",
    "    if cv.waitKey(1) & 0xFF == ord('q'):\n",
    "        break\n",
    "video_capture.release()\n",
    "cv.destroyAllWindows()"
   ]
  },
  {
   "cell_type": "code",
   "execution_count": null,
   "id": "253ba36c-f222-4ddc-a3e2-c756cad89b39",
   "metadata": {},
   "outputs": [],
   "source": []
  }
 ],
 "metadata": {
  "kernelspec": {
   "display_name": "Python 3 (ipykernel)",
   "language": "python",
   "name": "python3"
  },
  "language_info": {
   "codemirror_mode": {
    "name": "ipython",
    "version": 3
   },
   "file_extension": ".py",
   "mimetype": "text/x-python",
   "name": "python",
   "nbconvert_exporter": "python",
   "pygments_lexer": "ipython3",
   "version": "3.9.7"
  }
 },
 "nbformat": 4,
 "nbformat_minor": 5
}
